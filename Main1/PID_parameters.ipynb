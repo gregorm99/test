{
 "cells": [
  {
   "cell_type": "code",
   "execution_count": null,
   "metadata": {},
   "outputs": [
    {
     "name": "stdout",
     "output_type": "stream",
     "text": [
      "Optimal values: R1=20000 Ω, R2=20000 Ω, C1=1e-07 F, C2=1e-07 F\n",
      "Actual P, I, D values: Kp=1000.0, Ki=500.0, Kd=0.002\n",
      "Error: 1399.998\n"
     ]
    }
   ],
   "source": [
    "from itertools import product\n",
    "\n",
    "def calculate_pid_components(Kp, Ki, Kd, available_resistors, available_capacitors):\n",
    "    best_match = None\n",
    "    min_error = float('inf')\n",
    "\n",
    "    for R1, R2, C1, C2 in product(available_resistors, available_resistors, available_capacitors, available_capacitors):\n",
    "        # Calculate PID terms based on component values\n",
    "        calculated_Kd = C1 * R2\n",
    "        calculated_Kp = (R1 + R2) / (R1 * R2 * C2)\n",
    "        calculated_Ki = 1 / (R1 * C2)\n",
    "\n",
    "        # Calculate error for the current combination\n",
    "        error = abs(Kd - calculated_Kd) + abs(Kp - calculated_Kp) + abs(Ki - calculated_Ki)\n",
    "        \n",
    "        # Update best match if error is lower\n",
    "        if error < min_error:\n",
    "            min_error = error\n",
    "            best_match = (R1, R2, C1, C2, calculated_Kp, calculated_Ki, calculated_Kd)\n",
    "\n",
    "    return best_match, min_error\n",
    "\n",
    "# Example inputs\n",
    "Kp_desired = 100\n",
    "Ki_desired = 10\n",
    "Kd_desired = 10\n",
    "\n",
    "available_resistors = [47, 100, 500, 1000, 2500, 5000, 10000, 20000]  # in ohms\n",
    "available_capacitors = [1e-9,1.2e-9, 1.5e-9, 1.8e-9, 2.2e-9, 2.7e-9, 3.3e-9, 3.9e-9, 4.7e-9, 5.6e-9, 6.8e-9, 8.2e-9, 10e-9, 12e-9, 15e-9, 18e-9, 22e-9, 27e-9, 33e-9, 39e-9, 47e-9, 56e-9, 68e-9, 100e-9]  # in farads\n",
    "\n",
    "result, error = calculate_pid_components(Kp_desired, Ki_desired, Kd_desired, available_resistors, available_capacitors)\n",
    "\n",
    "if result:\n",
    "    R1, R2, C1, C2, actual_Kp, actual_Ki, actual_Kd = result\n",
    "    print(f\"Optimal values: R1={R1} Ω, R2={R2} Ω, C1={C1} F, C2={C2} F\")\n",
    "    print(f\"Actual P, I, D values: Kp={actual_Kp}, Ki={actual_Ki}, Kd={actual_Kd}\")\n",
    "    print(f\"Error: {error}\")\n",
    "else:\n",
    "    print(\"No suitable component values found.\")"
   ]
  },
  {
   "cell_type": "code",
   "execution_count": null,
   "metadata": {},
   "outputs": [
    {
     "name": "stdout",
     "output_type": "stream",
     "text": [
      "Optimal values: R1=2000 Ω, R2=1000 Ω, C1=0.047 F, C2=1e-06 F\n",
      "Actual P, I, D values: Kp=1500.0, Ki=500.0, Kd=47.0\n",
      "Error: 203.0\n"
     ]
    }
   ],
   "source": [
    "from itertools import product\n",
    "\n",
    "def calculate_pid_components(Kp, Ki, Kd, available_resistors, available_capacitors):\n",
    "    best_match = None\n",
    "    min_error = float('inf')\n",
    "\n",
    "    # Consider multiples of given values\n",
    "    extended_resistors = {r * m for r in available_resistors for m in range(1, 11)}\n",
    "    extended_capacitors = {c * m for c in available_capacitors for m in range(1, 11)}\n",
    "\n",
    "    for R1, R2, C1, C2 in product(extended_resistors, extended_resistors, extended_capacitors, extended_capacitors):\n",
    "        # Calculate PID terms based on component values\n",
    "        calculated_Kd = C1 * R2\n",
    "        calculated_Kp = (R1 + R2) / (R1 * R2 * C2)\n",
    "        calculated_Ki = 1 / (R1 * C2)\n",
    "\n",
    "        # Calculate error for the current combination\n",
    "        error = abs(Kd - calculated_Kd) + abs(Kp - calculated_Kp) + abs(Ki - calculated_Ki)\n",
    "        \n",
    "        # Update best match if error is lower\n",
    "        if error < min_error:\n",
    "            min_error = error\n",
    "            best_match = (R1, R2, C1, C2, calculated_Kp, calculated_Ki, calculated_Kd)\n",
    "\n",
    "    return best_match, min_error\n",
    "\n",
    "# Example inputs\n",
    "Kp_desired = 1600\n",
    "Ki_desired = 600\n",
    "Kd_desired = 50\n",
    "\n",
    "available_resistors = [1000, 5000, 10000, 20000]  # in ohms\n",
    "available_capacitors = [1e-6, 1e-3, 4.7e-3, 10e-6]  # in farads\n",
    "\n",
    "result, error = calculate_pid_components(Kp_desired, Ki_desired, Kd_desired, available_resistors, available_capacitors)\n",
    "\n",
    "if result:\n",
    "    R1, R2, C1, C2, actual_Kp, actual_Ki, actual_Kd = result\n",
    "    print(f\"Optimal values: R1={R1} Ω, R2={R2} Ω, C1={C1} F, C2={C2} F\")\n",
    "    print(f\"Actual P, I, D values: Kp={actual_Kp}, Ki={actual_Ki}, Kd={actual_Kd}\")\n",
    "    print(f\"Error: {error}\")\n",
    "else:\n",
    "    print(\"No suitable component values found.\")\n"
   ]
  },
  {
   "cell_type": "code",
   "execution_count": null,
   "metadata": {},
   "outputs": [
    {
     "name": "stdout",
     "output_type": "stream",
     "text": [
      "Optimal values: R1=1200 * 100 Ω, R2=700 * 100 Ω, C1=10.0 * 1e-07 F, C2=1.41e-08 F\n",
      "Actual P, I, D values: Kp=1604.1877744005403, Ki=591.0165484633569, Kd=0.06999999999999999\n",
      "Error: 63.10122593718341\n"
     ]
    }
   ],
   "source": [
    "from itertools import product\n",
    "\n",
    "def calculate_pid_components(Kp, Ki, Kd, available_resistors, available_capacitors):\n",
    "    best_match = None\n",
    "    min_error = float('inf')\n",
    "\n",
    "    # Consider multiples of given values\n",
    "    extended_resistors = {r * m for r in available_resistors for m in range(1, 11)}\n",
    "    extended_capacitors = {c * m for c in available_capacitors for m in range(1, 11)}\n",
    "\n",
    "    for R1, R2, C1, C2 in product(extended_resistors, extended_resistors, extended_capacitors, extended_capacitors):\n",
    "        # Calculate PID terms based on component values\n",
    "        calculated_Kd = C1 * R2\n",
    "        calculated_Kp = (R1 + R2) / (R1 * R2 * C2)\n",
    "        calculated_Ki = 1 / (R1 * C2)\n",
    "\n",
    "        # Calculate error for the current combination\n",
    "        error = abs(Kd - calculated_Kd) + abs(Kp - calculated_Kp) + abs(Ki - calculated_Ki)\n",
    "        \n",
    "        # Update best match if error is lower\n",
    "        if error < min_error:\n",
    "            min_error = error\n",
    "            best_match = (R1, R2, C1, C2, calculated_Kp, calculated_Ki, calculated_Kd)\n",
    "\n",
    "    return best_match, min_error\n",
    "\n",
    "def find_multiple(value, base_values):\n",
    "    for base in base_values:\n",
    "        if value % base == 0:\n",
    "            return f\"{value // base} * {base}\"\n",
    "    return str(value)\n",
    "\n",
    "# Example inputs\n",
    "Kp_desired = 1600\n",
    "Ki_desired = 600\n",
    "Kd_desired = 50\n",
    "\n",
    "available_resistors = [47, 100, 500, 1000, 2500, 5000, 10000, 20000]  # in ohms\n",
    "available_capacitors = [1e-9,1.2e-9, 1.5e-9, 1.8e-9, 2.2e-9, 2.7e-9, 3.3e-9, 3.9e-9, 4.7e-9, 5.6e-9, 6.8e-9, 8.2e-9, 10e-9, 12e-9, 15e-9, 18e-9, 22e-9, 27e-9, 33e-9, 39e-9, 47e-9, 56e-9, 68e-9, 100e-9]  # in farads\n",
    "\n",
    "result, error = calculate_pid_components(Kp_desired, Ki_desired, Kd_desired, available_resistors, available_capacitors)\n",
    "\n",
    "if result:\n",
    "    R1, R2, C1, C2, actual_Kp, actual_Ki, actual_Kd = result\n",
    "    R1_str = find_multiple(R1, available_resistors)\n",
    "    R2_str = find_multiple(R2, available_resistors)\n",
    "    C1_str = find_multiple(C1, available_capacitors)\n",
    "    C2_str = find_multiple(C2, available_capacitors)\n",
    "\n",
    "    print(f\"Optimal values: R1={R1_str} Ω, R2={R2_str} Ω, C1={C1_str} F, C2={C2_str} F\")\n",
    "    print(f\"Actual P, I, D values: Kp={actual_Kp}, Ki={actual_Ki}, Kd={actual_Kd}\")\n",
    "    print(f\"Error: {error}\")\n",
    "else:\n",
    "    print(\"No suitable component values found.\")\n"
   ]
  },
  {
   "cell_type": "code",
   "execution_count": null,
   "metadata": {},
   "outputs": [
    {
     "name": "stdout",
     "output_type": "stream",
     "text": [
      "P= 120000.0 I= 99999.99999999999 D= 5e-05\n"
     ]
    }
   ],
   "source": [
    "def calculate_gains(R1, R2, C1, C2):\n",
    "    # Calculate the P, I, and D gains\n",
    "    Kd = C1 * R2\n",
    "    Kp = (R1 + R2) / (R1 * R2 * C2)\n",
    "    Ki = 1 / (R1 * C2)\n",
    "    \n",
    "    return Kp, Ki, Kd\n",
    "\n",
    "\n",
    "R1 = 1000\n",
    "R2 = 5000\n",
    "C1 = 10e-9\n",
    "C2 = 10e-9\n",
    "\n",
    "\n",
    "Kp, Ki, Kd = calculate_gains(R1, R2, C1, C2)\n",
    "\n",
    "print(\"P=\", Kp, \"I=\", Ki, \"D=\", Kd)\n"
   ]
  },
  {
   "cell_type": "code",
   "execution_count": null,
   "metadata": {},
   "outputs": [],
   "source": []
  }
 ],
 "metadata": {
  "language_info": {
   "name": "python"
  }
 },
 "nbformat": 4,
 "nbformat_minor": 2
}
